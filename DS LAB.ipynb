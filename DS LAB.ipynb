{
 "cells": [
  {
   "cell_type": "code",
   "execution_count": 5,
   "id": "05a88a82",
   "metadata": {},
   "outputs": [
    {
     "data": {
      "text/plain": [
       "int"
      ]
     },
     "execution_count": 5,
     "metadata": {},
     "output_type": "execute_result"
    }
   ],
   "source": [
    "type(5)"
   ]
  },
  {
   "cell_type": "code",
   "execution_count": 3,
   "id": "4730fc28",
   "metadata": {},
   "outputs": [
    {
     "data": {
      "text/plain": [
       "float"
      ]
     },
     "execution_count": 3,
     "metadata": {},
     "output_type": "execute_result"
    }
   ],
   "source": [
    "type(3.27)"
   ]
  },
  {
   "cell_type": "code",
   "execution_count": 4,
   "id": "fbeb1382",
   "metadata": {},
   "outputs": [
    {
     "data": {
      "text/plain": [
       "bool"
      ]
     },
     "execution_count": 4,
     "metadata": {},
     "output_type": "execute_result"
    }
   ],
   "source": [
    "type(True)"
   ]
  },
  {
   "cell_type": "code",
   "execution_count": 6,
   "id": "5f4856ec",
   "metadata": {},
   "outputs": [
    {
     "data": {
      "text/plain": [
       "5"
      ]
     },
     "execution_count": 6,
     "metadata": {},
     "output_type": "execute_result"
    }
   ],
   "source": [
    "3+2"
   ]
  },
  {
   "cell_type": "code",
   "execution_count": 7,
   "id": "d79c19ec",
   "metadata": {},
   "outputs": [
    {
     "name": "stdout",
     "output_type": "stream",
     "text": [
      "5\n"
     ]
    }
   ],
   "source": [
    "print(3+2)"
   ]
  },
  {
   "cell_type": "code",
   "execution_count": 8,
   "id": "fab7f7c9",
   "metadata": {},
   "outputs": [
    {
     "name": "stdout",
     "output_type": "stream",
     "text": [
      "6\n"
     ]
    }
   ],
   "source": [
    "print(3*2)"
   ]
  },
  {
   "cell_type": "code",
   "execution_count": 12,
   "id": "92b11b2b",
   "metadata": {},
   "outputs": [
    {
     "name": "stdout",
     "output_type": "stream",
     "text": [
      "welcome\n"
     ]
    }
   ],
   "source": [
    "print('welcome')"
   ]
  },
  {
   "cell_type": "code",
   "execution_count": 13,
   "id": "0405aee2",
   "metadata": {},
   "outputs": [
    {
     "data": {
      "text/plain": [
       "int"
      ]
     },
     "execution_count": 13,
     "metadata": {},
     "output_type": "execute_result"
    }
   ],
   "source": [
    "type(3**2)"
   ]
  },
  {
   "cell_type": "code",
   "execution_count": 14,
   "id": "d9e1eb6b",
   "metadata": {},
   "outputs": [
    {
     "data": {
      "text/plain": [
       "27"
      ]
     },
     "execution_count": 14,
     "metadata": {},
     "output_type": "execute_result"
    }
   ],
   "source": [
    "int(3**3)"
   ]
  },
  {
   "cell_type": "code",
   "execution_count": 15,
   "id": "077bbe01",
   "metadata": {},
   "outputs": [
    {
     "data": {
      "text/plain": [
       "15"
      ]
     },
     "execution_count": 15,
     "metadata": {},
     "output_type": "execute_result"
    }
   ],
   "source": [
    "int(3*4+3)"
   ]
  },
  {
   "cell_type": "code",
   "execution_count": 17,
   "id": "0f255b02",
   "metadata": {},
   "outputs": [
    {
     "data": {
      "text/plain": [
       "2"
      ]
     },
     "execution_count": 17,
     "metadata": {},
     "output_type": "execute_result"
    }
   ],
   "source": [
    "int(8%3)"
   ]
  },
  {
   "cell_type": "code",
   "execution_count": 18,
   "id": "6f774fce",
   "metadata": {},
   "outputs": [
    {
     "data": {
      "text/plain": [
       "3"
      ]
     },
     "execution_count": 18,
     "metadata": {},
     "output_type": "execute_result"
    }
   ],
   "source": [
    "pi = 3.14159\n",
    "int(pi)"
   ]
  },
  {
   "cell_type": "code",
   "execution_count": 19,
   "id": "9efaf696",
   "metadata": {},
   "outputs": [],
   "source": [
    "pi =3.14159\n",
    "radious = 2.2\n",
    "area = pi*(radious**2)"
   ]
  },
  {
   "cell_type": "code",
   "execution_count": 20,
   "id": "d383d9f9",
   "metadata": {},
   "outputs": [
    {
     "name": "stdout",
     "output_type": "stream",
     "text": [
      "15.205295600000001\n"
     ]
    }
   ],
   "source": [
    "print(area)"
   ]
  },
  {
   "cell_type": "code",
   "execution_count": 4,
   "id": "68709cc3",
   "metadata": {},
   "outputs": [
    {
     "name": "stdout",
     "output_type": "stream",
     "text": [
      "Enter an Intger:9\n"
     ]
    }
   ],
   "source": [
    "x= int(input('Enter an Intger:'))"
   ]
  },
  {
   "cell_type": "code",
   "execution_count": 5,
   "id": "27b7d635",
   "metadata": {},
   "outputs": [
    {
     "name": "stdout",
     "output_type": "stream",
     "text": [
      "Divisible by 2 and not in 3\n"
     ]
    }
   ],
   "source": [
    "\n",
    "if x%3 == 0:\n",
    "    if x %2 ==0:\n",
    "        print('Divisible by 2 and 3')\n",
    "    else:\n",
    "        print('Divisible by 2 and not in 3')\n",
    "elif x%3 ==0:\n",
    "        print('Divisible by 3 and not in 2')\n"
   ]
  },
  {
   "cell_type": "code",
   "execution_count": 3,
   "id": "b355ae4d",
   "metadata": {},
   "outputs": [
    {
     "name": "stdout",
     "output_type": "stream",
     "text": [
      "i am here\n"
     ]
    }
   ],
   "source": [
    "x =6\n",
    "if x!=5:\n",
    "    print('i am here')\n",
    "else:\n",
    "    print('no i am not')"
   ]
  },
  {
   "cell_type": "code",
   "execution_count": null,
   "id": "b66f5399",
   "metadata": {},
   "outputs": [],
   "source": [
    "print(x)"
   ]
  },
  {
   "cell_type": "code",
   "execution_count": 1,
   "id": "ee707910",
   "metadata": {},
   "outputs": [
    {
     "data": {
      "text/plain": [
       "2"
      ]
     },
     "execution_count": 1,
     "metadata": {},
     "output_type": "execute_result"
    }
   ],
   "source": [
    "int(2)"
   ]
  },
  {
   "cell_type": "code",
   "execution_count": 6,
   "id": "1f17a900",
   "metadata": {},
   "outputs": [
    {
     "name": "stdout",
     "output_type": "stream",
     "text": [
      "2\n"
     ]
    }
   ],
   "source": [
    "x =1\n",
    "y =2\n",
    "x= y\n",
    "y=x\n",
    "print(x)"
   ]
  },
  {
   "cell_type": "code",
   "execution_count": 8,
   "id": "d754a224",
   "metadata": {},
   "outputs": [
    {
     "data": {
      "text/plain": [
       "[2, 5]"
      ]
     },
     "execution_count": 8,
     "metadata": {},
     "output_type": "execute_result"
    }
   ],
   "source": [
    "x=[1,2,5,4,7,8,9,7]\n",
    "x[1:3]"
   ]
  },
  {
   "cell_type": "code",
   "execution_count": 14,
   "id": "c437f289",
   "metadata": {},
   "outputs": [
    {
     "name": "stdout",
     "output_type": "stream",
     "text": [
      "0\n",
      "1\n",
      "2\n",
      "3\n",
      "4\n"
     ]
    }
   ],
   "source": [
    "n=0\n",
    "while n<5:\n",
    "    print(n)\n",
    "    n =n+1\n",
    "    "
   ]
  },
  {
   "cell_type": "code",
   "execution_count": 24,
   "id": "6bb7e92f",
   "metadata": {},
   "outputs": [
    {
     "name": "stdout",
     "output_type": "stream",
     "text": [
      "7\n",
      "8\n",
      "9\n"
     ]
    }
   ],
   "source": [
    "i=0\n",
    "for i in range(7,10):\n",
    "   \n",
    "    print(i)\n"
   ]
  },
  {
   "cell_type": "code",
   "execution_count": 25,
   "id": "e8e72a21",
   "metadata": {},
   "outputs": [
    {
     "name": "stdout",
     "output_type": "stream",
     "text": [
      "8\n",
      "9\n",
      "10\n"
     ]
    }
   ],
   "source": [
    "i=0\n",
    "for i in range(7,10):\n",
    "    i+=1\n",
    "    \n",
    "    print(i)"
   ]
  },
  {
   "cell_type": "code",
   "execution_count": 29,
   "id": "1094ec66",
   "metadata": {},
   "outputs": [
    {
     "name": "stdout",
     "output_type": "stream",
     "text": [
      "Entger27\n",
      "cube root of27is3\n"
     ]
    }
   ],
   "source": [
    "x =int(input('Entger'))\n",
    "ans =0\n",
    "\n",
    "while ans** 3 < x:\n",
    "    ans =ans+ 1\n",
    "if ans **3 !=x:\n",
    "    print(str(x) + 'is not perfect Cube')\n",
    "else:\n",
    "        print('cube root of' + str(x) + 'is' +str(ans))\n",
    "   "
   ]
  },
  {
   "cell_type": "code",
   "execution_count": 31,
   "id": "8f893245",
   "metadata": {},
   "outputs": [
    {
     "name": "stdout",
     "output_type": "stream",
     "text": [
      "Compound interest is 6288.946267774416\n"
     ]
    }
   ],
   "source": [
    "def compound_interest(principal, rate, time):\n",
    " \n",
    "    # Calculates compound interest\n",
    "    Amount = principal * (pow((1 + rate / 100), time))\n",
    "    CI = Amount - principal\n",
    "    print(\"Compound interest is\", CI)\n",
    " \n",
    " \n",
    "# Driver Code\n",
    "compound_interest(10000, 10.25, 5)"
   ]
  },
  {
   "cell_type": "code",
   "execution_count": 32,
   "id": "671e4eef",
   "metadata": {},
   "outputs": [
    {
     "name": "stdout",
     "output_type": "stream",
     "text": [
      "Enter the principal amount: 1000\n",
      "Enter rate of interest: 20\n",
      "Enter time in years: 3\n",
      "Compound interest is 727.9999999999998\n"
     ]
    }
   ],
   "source": [
    "def compound_interest(principal, rate, time):\n",
    " \n",
    "    # Calculates compound interest\n",
    "    Amount = principal * (pow((1 + rate / 100), time))\n",
    "    CI = Amount - principal\n",
    "    print(\"Compound interest is\", CI)\n",
    " \n",
    " \n",
    "# Driver Code\n",
    "#Taking input from user.\n",
    "principal = int(input(\"Enter the principal amount: \"))\n",
    "rate = int(input(\"Enter rate of interest: \"))\n",
    "time = int(input(\"Enter time in years: \" ))\n",
    "#Function Call\n",
    "compound_interest(principal,rate,time)"
   ]
  },
  {
   "cell_type": "code",
   "execution_count": 46,
   "id": "a10a8890",
   "metadata": {},
   "outputs": [
    {
     "name": "stdout",
     "output_type": "stream",
     "text": [
      "cube root of 27 is 3\n"
     ]
    }
   ],
   "source": [
    "cube = 27\n",
    "for guess in range(abs(cube)+1):\n",
    "    if guess**3 >= abs(cube):\n",
    "        break\n",
    "if guess**3 != abs(cube):\n",
    "        print(cube, 'is not a perfect cube')\n",
    "else:\n",
    "    if cube < 0:\n",
    "        guess = -guess\n",
    "    print('cube root of ' + str(cube) + ' is ' + str(guess))\n",
    "        \n",
    "    "
   ]
  },
  {
   "cell_type": "code",
   "execution_count": null,
   "id": "d69f7fbf",
   "metadata": {},
   "outputs": [],
   "source": [
    "# Grade report using if /else"
   ]
  },
  {
   "cell_type": "code",
   "execution_count": 18,
   "id": "9add2a84",
   "metadata": {},
   "outputs": [
    {
     "name": "stdout",
     "output_type": "stream",
     "text": [
      "Entrer Your Grade Point: 75\n",
      "Your result is C\n",
      "Good\n"
     ]
    }
   ],
   "source": [
    "grade = int(input(\"Entrer Your Grade Point: \"))\n",
    "\n",
    "if grade >= 90:\n",
    "    print('Your result is' + ' ' +'A\\nExcellent')\n",
    "elif grade >= 80:\n",
    "    print('Your result is' + ' ' +'B\\nVery Good')\n",
    "elif grade >=70:\n",
    "    print('Your result is' + ' ' +'C\\nGood')\n",
    "elif grade >=50:\n",
    "    print('Your result is' + ' ' +\"D\\nStisfactory\")\n",
    "else:\n",
    "    print('You are Faild\\nyou must take this course again')"
   ]
  },
  {
   "cell_type": "code",
   "execution_count": 25,
   "id": "f739461e",
   "metadata": {},
   "outputs": [
    {
     "name": "stdout",
     "output_type": "stream",
     "text": [
      "P  r  o  g  r  a  m  m  i  n  g  "
     ]
    }
   ],
   "source": [
    "for character in ('Programming'):\n",
    "    print(character, end='  ')"
   ]
  },
  {
   "cell_type": "code",
   "execution_count": 31,
   "id": "57f44378",
   "metadata": {},
   "outputs": [
    {
     "name": "stdout",
     "output_type": "stream",
     "text": [
      "Class average is 81.7\n"
     ]
    }
   ],
   "source": [
    "## class_average.py\n",
    "#\"\"\"Class average program with sequence­controlled iteration.\"\"\"\n",
    "\n",
    "# initialization phase\n",
    "total = 0 # sum of grades\n",
    "grade_counter = 0\n",
    "grades = [98, 76, 71, 87, 83, 90, 57, 79, 82, 94] # list of 10 grades\n",
    "\n",
    "# processing phase\n",
    "for grade in grades:\n",
    "    total += grade # add current grade to the running total\n",
    "    grade_counter += 1 # indicate that one more grade was process\n",
    "\n",
    " # termination phase\n",
    "average = total / grade_counter\n",
    "print(f'Class average is {average}')\n"
   ]
  },
  {
   "cell_type": "code",
   "execution_count": 39,
   "id": "2368b013",
   "metadata": {},
   "outputs": [
    {
     "data": {
      "text/plain": [
       "79.4"
      ]
     },
     "execution_count": 39,
     "metadata": {},
     "output_type": "execute_result"
    }
   ],
   "source": [
    "#statistics\n",
    "import statistics\n",
    "grades = [85, 93, 45, 89, 85]\n",
    "statistics.mean(grades)\n"
   ]
  },
  {
   "cell_type": "code",
   "execution_count": 40,
   "id": "227d2cbf",
   "metadata": {},
   "outputs": [
    {
     "data": {
      "text/plain": [
       "85"
      ]
     },
     "execution_count": 40,
     "metadata": {},
     "output_type": "execute_result"
    }
   ],
   "source": [
    "statistics.mode(grades)\n"
   ]
  },
  {
   "cell_type": "code",
   "execution_count": 41,
   "id": "cb8265fe",
   "metadata": {},
   "outputs": [
    {
     "data": {
      "text/plain": [
       "85"
      ]
     },
     "execution_count": 41,
     "metadata": {},
     "output_type": "execute_result"
    }
   ],
   "source": [
    "statistics.median(grades)"
   ]
  },
  {
   "cell_type": "code",
   "execution_count": 42,
   "id": "740caec2",
   "metadata": {},
   "outputs": [
    {
     "data": {
      "text/plain": [
       "[45, 85, 85, 89, 93]"
      ]
     },
     "execution_count": 42,
     "metadata": {},
     "output_type": "execute_result"
    }
   ],
   "source": [
    "sorted(grades)"
   ]
  },
  {
   "cell_type": "code",
   "execution_count": 66,
   "id": "2c44214f",
   "metadata": {},
   "outputs": [
    {
     "name": "stdout",
     "output_type": "stream",
     "text": [
      "5 1 1 1 5 5 5 5 "
     ]
    }
   ],
   "source": [
    "import random\n",
    "for roll in range(8):\n",
    "    print(random.randrange(1, 6), end=' ')"
   ]
  },
  {
   "cell_type": "code",
   "execution_count": 3,
   "id": "85b3ba5e",
   "metadata": {},
   "outputs": [],
   "source": [
    "t=(2,\"mint\",3,5,6)"
   ]
  },
  {
   "cell_type": "code",
   "execution_count": 4,
   "id": "efd96b13",
   "metadata": {},
   "outputs": [
    {
     "data": {
      "text/plain": [
       "5"
      ]
     },
     "execution_count": 4,
     "metadata": {},
     "output_type": "execute_result"
    }
   ],
   "source": [
    "len(t)"
   ]
  },
  {
   "cell_type": "code",
   "execution_count": 5,
   "id": "0462a564",
   "metadata": {},
   "outputs": [
    {
     "data": {
      "text/plain": [
       "(2, 'mint', 3, 5)"
      ]
     },
     "execution_count": 5,
     "metadata": {},
     "output_type": "execute_result"
    }
   ],
   "source": [
    "t[0:4]"
   ]
  },
  {
   "cell_type": "code",
   "execution_count": null,
   "id": "bfafe776",
   "metadata": {},
   "outputs": [],
   "source": [
    "L=[2,3,4,\"mint\",[1,2]]"
   ]
  },
  {
   "cell_type": "code",
   "execution_count": 1,
   "id": "37b54fb8",
   "metadata": {},
   "outputs": [
    {
     "name": "stdout",
     "output_type": "stream",
     "text": [
      "List is:  [4, 5, 7, 1, 7]\n",
      "Tuple is:  (4, 1, 8, 3, 9)\n"
     ]
    }
   ],
   "source": [
    " # Python code to show the difference between creating a list and a tuple  \n",
    "  \n",
    "list_ = [4, 5, 7, 1, 7]  \n",
    "tuple_ = (4, 1, 8, 3, 9)  \n",
    "  \n",
    "print(\"List is: \", list_)  \n",
    "print(\"Tuple is: \", tuple_)  "
   ]
  },
  {
   "cell_type": "code",
   "execution_count": 30,
   "id": "8fe7e8c7",
   "metadata": {},
   "outputs": [
    {
     "name": "stdout",
     "output_type": "stream",
     "text": [
      "enter the date:20\n",
      "Entrer week : monday\n",
      "your on holiday\n"
     ]
    }
   ],
   "source": [
    "day = int(input(\"enter the date:\")) \n",
    "week = str(input(\"Entrer week : \"))\n",
    "your_holiday = 30-day\n",
    "\n",
    "if(day == week):\n",
    "    print(\"you are returen on:\" + \" \" +your_holiday)\n",
    "else:\n",
    "    print(\"your on holiday\")\n"
   ]
  },
  {
   "cell_type": "code",
   "execution_count": 43,
   "id": "fad93fc5",
   "metadata": {},
   "outputs": [
    {
     "name": "stdout",
     "output_type": "stream",
     "text": [
      "Enter your garde:87\n",
      "Grade is invalid\n"
     ]
    }
   ],
   "source": [
    "grade =int(input(\"Enter your garde:\"))\n",
    "if grade <0 or grade>30:\n",
    "    print(\"Grade is invalid\")\n",
    "else:\n",
    "    if grade>27: #[30-27)\n",
    "        print(\"Your Grade is A\\nExceelent\")\n",
    "    elif grade>25:\n",
    "        print(\"Your Grade is B\")\n",
    "    elif grade >=20:\n",
    "        print(\"Your Grade is C\")\n",
    "    elif grade >=18:\n",
    "        print(\"Your Grade iss D\")\n",
    "    else:\n",
    "        print(\"You are Faill\")\n"
   ]
  },
  {
   "cell_type": "code",
   "execution_count": 42,
   "id": "051592a7",
   "metadata": {},
   "outputs": [
    {
     "ename": "SyntaxError",
     "evalue": "invalid syntax (72988057.py, line 1)",
     "output_type": "error",
     "traceback": [
      "\u001b[1;36m  Cell \u001b[1;32mIn[42], line 1\u001b[1;36m\u001b[0m\n\u001b[1;33m    def find(string.substring)\u001b[0m\n\u001b[1;37m                   ^\u001b[0m\n\u001b[1;31mSyntaxError\u001b[0m\u001b[1;31m:\u001b[0m invalid syntax\n"
     ]
    }
   ],
   "source": [
    "def find(string.substring)\n",
    "    if len(string) < len(substring):\n",
    "        print(\"NO\")\n",
    "        return\n",
    "    "
   ]
  },
  {
   "cell_type": "code",
   "execution_count": 45,
   "id": "4e0b285b",
   "metadata": {},
   "outputs": [
    {
     "name": "stdout",
     "output_type": "stream",
     "text": [
      "Enter the starting day of your holiday (Mon, Tue, Wed, Thu, Fri, Sat, Sun): Mon\n",
      "Enter the length of your stay (in days): 12\n",
      "You will return on Sat\n"
     ]
    }
   ],
   "source": [
    "import datetime\n",
    "\n",
    "def get_return_day(starting_day, length_of_stay):\n",
    "    # Map the input day to its corresponding integer value\n",
    "    days = [\"Mon\", \"Tue\", \"Wed\", \"Thu\", \"Fri\", \"Sat\", \"Sun\"]\n",
    "    starting_day_index = days.index(starting_day)\n",
    "\n",
    "    # Calculate the return day\n",
    "    return_day_index = (starting_day_index + length_of_stay) % 7\n",
    "    return_day = days[return_day_index]\n",
    "\n",
    "    return return_day\n",
    "\n",
    "# Get user input\n",
    "starting_day = input(\"Enter the starting day of your holiday (Mon, Tue, Wed, Thu, Fri, Sat, Sun): \")\n",
    "length_of_stay = int(input(\"Enter the length of your stay (in days): \"))\n",
    "\n",
    "# Get the return day\n",
    "return_day = get_return_day(starting_day, length_of_stay)\n",
    "\n",
    "# Print the return day\n",
    "print(\"You will return on\", return_day)"
   ]
  },
  {
   "cell_type": "code",
   "execution_count": 47,
   "id": "7f05f331",
   "metadata": {},
   "outputs": [
    {
     "name": "stdout",
     "output_type": "stream",
     "text": [
      "Starting day of holiday (Mon, Tue, Wed, Thu, Fry, Sat, or Sun): Sun\n",
      "Number of days: 20\n",
      "The return day is Fry\n"
     ]
    }
   ],
   "source": [
    "day = input('Starting day of holiday (Mon, Tue, Wed, Thu, Fry, Sat, or Sun): ')\n",
    "n = -1\n",
    "if day == 'Mon':\n",
    "    n = 0\n",
    "elif day == 'Tue':\n",
    "    n = 1\n",
    "elif day == 'Wed':\n",
    "    n = 2\n",
    "elif day == 'Thu':\n",
    "    n = 3\n",
    "elif day == 'Fri':\n",
    "    n = 4\n",
    "elif day == 'Sat':\n",
    "    n = 5\n",
    "elif day == 'Sun':\n",
    "    n = 6\n",
    "if n == -1:\n",
    "    print('Input', day, 'not allowed!')\n",
    "else:\n",
    "    ndays = int(input('Number of days: '))\n",
    "\n",
    "    return_day = (n + ndays - 1) % 7  # We subtract 1, since we include the day of the departure\n",
    "                                    # in the period of stay\n",
    "\n",
    "    if return_day == 0:\n",
    "        print('The return day is Mon')\n",
    "    elif return_day == 1:\n",
    "        print('The return day is Tue')\n",
    "    elif return_day == 2:\n",
    "        print('The return day is Wed')\n",
    "    elif return_day == 3:\n",
    "        print('The return day is Thu')\n",
    "    elif return_day == 4:\n",
    "        print('The return day is Fry')\n",
    "    elif return_day == 5:\n",
    "        print('The return day is Sat')\n",
    "    elif return_day == 6:\n",
    "        print('The return day is Sun')"
   ]
  },
  {
   "cell_type": "code",
   "execution_count": 50,
   "id": "a9e59b68",
   "metadata": {},
   "outputs": [
    {
     "name": "stdout",
     "output_type": "stream",
     "text": [
      "Mark of the exam: 90\n",
      "Incorrect mark!\n"
     ]
    }
   ],
   "source": [
    "mark = int(input('Mark of the exam: '))\n",
    "if mark < 0 or mark > 30:   # if True, then mark is not included in [0,30]\n",
    "    print('Incorrect mark!')\n",
    "else:\n",
    "    if mark > 27:       # we can omit mark <= 30, due to the first test\n",
    "        print('A')\n",
    "    elif mark > 25:     # we can omit mark <= 27, due to the previous condition\n",
    "        print('B')\n",
    "    elif mark > 20:     # we can omit mark <= 25, due to the previous condition\n",
    "        print('C')\n",
    "    elif mark >= 18:    # we can omit mark <= 20, due to the previous condition\n",
    "        print('D')\n",
    "    else:                              # no further check, as mark is surely included in the\n",
    "                                       # interval [0-30], and thus the only possibility is [0,18)\n",
    "        print('Fail')"
   ]
  },
  {
   "cell_type": "code",
   "execution_count": 48,
   "id": "dd4c1385",
   "metadata": {},
   "outputs": [
    {
     "name": "stdout",
     "output_type": "stream",
     "text": [
      "**** banana  substr: na\n",
      "index: 2\n",
      "index: 4\n",
      "**** ba  substr: na\n",
      "No\n",
      "**** ba  substr: nan\n",
      "No\n"
     ]
    }
   ],
   "source": [
    "def find(string, substring):\n",
    "    if len(string) < len(substring):\n",
    "        print('No')\n",
    "        return\n",
    "    found=False\n",
    "    for i in range(len(string)-len(substring)+1):\n",
    "        if string[i:len(substring)+i] == substring:\n",
    "            print('index:', i)\n",
    "            found=True\n",
    "    if not found:\n",
    "        print('No')\n",
    "\n",
    "print('**** banana  substr: na')\n",
    "find('banana', 'na')\n",
    "\n",
    "print('**** ba  substr: na')\n",
    "find('ba', 'na')\n",
    "\n",
    "print('**** ba  substr: nan')\n",
    "find('ba', 'nan')"
   ]
  },
  {
   "cell_type": "code",
   "execution_count": 61,
   "id": "b56d2864",
   "metadata": {},
   "outputs": [
    {
     "name": "stdout",
     "output_type": "stream",
     "text": [
      "{'one': 'undo', 'two': 'redo'}\n",
      "undo\n",
      "redo\n",
      "true\n"
     ]
    }
   ],
   "source": [
    "#Dicitionary\n",
    "eng2it ={}\n",
    "eng2it['one'] ='undo'\n",
    "eng2it['two'] = 'redo'\n",
    "print(eng2it)\n",
    "\n",
    "l= ['undo','redo','true']\n",
    "# for i in l:\n",
    "#     print(i)\n",
    "for i in range(len(l)):\n",
    "#     print(i)\n",
    "    print(l[i])"
   ]
  },
  {
   "cell_type": "code",
   "execution_count": null,
   "id": "eb18de0b",
   "metadata": {},
   "outputs": [],
   "source": []
  }
 ],
 "metadata": {
  "kernelspec": {
   "display_name": "Python 3 (ipykernel)",
   "language": "python",
   "name": "python3"
  },
  "language_info": {
   "codemirror_mode": {
    "name": "ipython",
    "version": 3
   },
   "file_extension": ".py",
   "mimetype": "text/x-python",
   "name": "python",
   "nbconvert_exporter": "python",
   "pygments_lexer": "ipython3",
   "version": "3.11.3"
  }
 },
 "nbformat": 4,
 "nbformat_minor": 5
}
